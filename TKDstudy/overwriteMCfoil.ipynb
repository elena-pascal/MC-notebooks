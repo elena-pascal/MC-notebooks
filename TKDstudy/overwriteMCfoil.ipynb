{
 "cells": [
  {
   "cell_type": "code",
   "execution_count": 1,
   "metadata": {},
   "outputs": [],
   "source": [
    "import numpy as np\n",
    "import pandas as pd\n",
    "import os\n",
    "import h5py\n",
    "import plotly.express as px\n",
    "import plotly.graph_objects as go\n",
    "\n",
    "from shutil import copy\n",
    "import matplotlib.pyplot as plt"
   ]
  },
  {
   "cell_type": "code",
   "execution_count": 2,
   "metadata": {},
   "outputs": [],
   "source": [
    "# return Lambert X and Y coordinates given a database\n",
    "\n",
    "def lam_X(df):\n",
    "    if (df.dy==0):\n",
    "        df.dy=0.01\n",
    "    if ( abs(df.dx) <= abs(df.dy) ):\n",
    "        return np.sign(df.dy) * (2*(1 - df.dz))**0.5 * (2*np.arctan(df.dx/df.dy)/(np.pi**0.5))\n",
    "    else:\n",
    "        return np.sign(df.dx) * (2*(1 - df.dz))**0.5 * np.pi**0.5/2\n",
    "    \n",
    "def lam_Y(df):\n",
    "    if ( abs(df.dx) <= abs(df.dy) ):\n",
    "        return np.sign(df.dy) * (2*(1 - df.dz))**0.5 * np.pi**0.5/2\n",
    "    else:\n",
    "        return np.sign(df.dx) * (2*(1 - df.dz))**0.5 * (2*np.arctan(df.dy/df.dx)/(np.pi**0.5))    "
   ]
  },
  {
   "cell_type": "code",
   "execution_count": 44,
   "metadata": {},
   "outputs": [],
   "source": [
    "def overwrite(mydata, Emin, Emax, EbinSize, zmax, zbinSize, detSize, MCpath, MCoutOG, MCoutNewName):\n",
    "    # read my distributions and add to pandas dataframe\n",
    "    el = pd.read_hdf(mydata, 'els')\n",
    "    trsm_el = el.loc[el.outcome=='trsm'].copy()\n",
    "    \n",
    "    print ('fraction of transmitted electrons', len(trsm_el)/len(el))\n",
    "    print ('total num el', len(trsm_el))\n",
    "    \n",
    "    # add escape distance column\n",
    "    trsm_el['escp_dist'] = (z_max - trsm_el.last_z)/trsm_el.dz\n",
    "    \n",
    "    # add Lambert projections columns\n",
    "    trsm_el['lam_X'] = trsm_el.apply(lam_X, axis=1)\n",
    "    trsm_el['lam_Y'] = trsm_el.apply(lam_Y, axis=1)\n",
    "    \n",
    "    # make categories based on energy\n",
    "    EbinEdges = int((Emax-Emin)/EbinSize) + 1\n",
    "    enLabels = [\"{0} - {1}\".format(i, i+EbinSize-1) for i in range(Emin, Emax, EbinSize)]\n",
    "    trsm_el['en_bins'] = pd.cut(trsm_el.final_E, bins=np.linspace(Emin, Emax, EbinEdges), right=False, labels=enLabels)\n",
    "            \n",
    "    # make categories based on depth\n",
    "    zbinEdges = int(zmax/zbinSize) + 1\n",
    "    zLabels = [\"{0} - {1}\".format(i, i+zbinSize-1) for i in range (0, zmax, zbinSize)]\n",
    "    trsm_el['z_bins'] = pd.cut(trsm_el.escp_dist, bins=np.linspace(0, zmax, zbinEdges), right=False, labels=zLabels)\n",
    "    \n",
    "    L = (np.pi/2)**0.5\n",
    "\n",
    "    # compute accum_e\n",
    "    en_xedges = np.linspace(-L, L, detSize+1)\n",
    "    en_yedges = np.linspace(-L, L, detSize+1)\n",
    "\n",
    "    accum_e = np.zeros([detSize,detSize,EbinEdges-1])\n",
    "    for binNum, enBin in enumerate(enLabels):\n",
    "        # select only X and Y lambert proj values for this energy range\n",
    "        selection =  trsm_el.loc[trsm_el.en_bins == enBin].copy()\n",
    "        Xvals = selection.lam_X\n",
    "        Yvals = selection.lam_Y\n",
    "        hist2d,_,_ = np.histogram2d(Xvals.values, Yvals.values, bins=(en_xedges, en_yedges))\n",
    "        accum_e[:,:,binNum] = hist2d\n",
    "    \n",
    "    # compute accum_z\n",
    "    z_xedges = np.linspace(-L, L, 4)\n",
    "    z_yedges = np.linspace(-L, L, 4)\n",
    "\n",
    "    accum_z = np.zeros([int(detSize/7), int(detSize/7), zbinEdges-1, EbinEdges-1])\n",
    "    for ebinNum, enBin in enumerate(enLabels):\n",
    "        for zbinNum, zBin in enumerate(zLabels):\n",
    "            # select only X and Y lambert proj values for this energy range\n",
    "            selection = trsm_el.loc[(trsm_el.en_bins == enBin) & (trsm_el.z_bins == zBin)].copy()\n",
    "            Xvals = selection.lam_X.values\n",
    "            Yvals = selection.lam_Y.values\n",
    "            hist2d,_,_ = np.histogram2d(Xvals, Yvals, bins=[z_xedges, z_yedges])\n",
    "            accum_z[:,:,zbinNum, ebinNum] = hist2d\n",
    "    print (accum_z[:,:, 1, 2], '\\n')\n",
    "    print (np.sum(accum_z[:,:,:,:], axis=(0, 1, 3)))\n",
    "    print (zLabels, '\\n')\n",
    "\n",
    "    # copy MC out file locally\n",
    "    if os.path.exists(MCoutOG):\n",
    "        os.remove(MCoutOG)\n",
    "    copy(MCpath+MCoutOG, MCoutOG)\n",
    "    print ('copied', MCpath+MCoutOG, 'to', MCoutOG,'\\n')\n",
    "    \n",
    "    # rename h5 file\n",
    "    if os.path.exists(MCoutNewName):\n",
    "        os.remove(MCoutNewName)\n",
    "    os.rename(MCoutOG,  MCoutNewName) \n",
    "    print ('renamed', MCoutOG, 'to', MCoutNewName,'\\n')\n",
    "    \n",
    "    # overwrite MCfoil\n",
    "    with h5py.File(MCoutNewName, 'a') as file:\n",
    "        del file['EMData/MCfoil/accum_e']\n",
    "        file['EMData/MCfoil/accum_e'] = accum_e\n",
    "\n",
    "        del file['EMData/MCfoil/accum_z']\n",
    "        file['EMData/MCfoil/accum_z'] = accum_z\n",
    "\n",
    "        del file['EMData/MCfoil/totnum_el']\n",
    "        file['EMData/MCfoil/totnum_el'] = np.array(len(trsm_el))\n",
    "\n",
    "        del file['EMData/MCfoil/numEbins']\n",
    "        file['EMData/MCfoil/numEbins'] = EbinEdges-1\n",
    "\n",
    "        del file['EMData/MCfoil/numzbins']\n",
    "        file['EMData/MCfoil/numzbins'] = zbinEdges-1\n",
    "        \n",
    "        del file['NMLparameters/MCCLfoilNameList/depthmax']\n",
    "        file['NMLparameters/MCCLfoilNameList/depthmax'] = zmax/10\n",
    "        print ('max depth:', zmax/10, 'nm \\n')\n",
    "        \n",
    "        del file['NMLparameters/MCCLfoilNameList/depthstep']\n",
    "        file['NMLparameters/MCCLfoilNameList/depthstep'] = zbinSize/10\n",
    "        print ('depth step:', zbinSize/10, 'nm \\n')"
   ]
  },
  {
   "cell_type": "code",
   "execution_count": 5,
   "metadata": {},
   "outputs": [],
   "source": [
    "Emin = 17000\n",
    "Emax = 20000\n",
    "EbinSize = 1000\n",
    "\n",
    "detSize = 21\n",
    "\n",
    "pathToMCout = '/home/elena/EMsoft/EMsoftPublic/EMsoftData/contrastInversion/'\n",
    "MCoutOG = 'MCfoilout_700.h5'"
   ]
  },
  {
   "cell_type": "markdown",
   "metadata": {},
   "source": [
    "# 1) z_max = 700 nm"
   ]
  },
  {
   "cell_type": "code",
   "execution_count": 6,
   "metadata": {},
   "outputs": [],
   "source": [
    "z_max = 7000 # A\n",
    "\n",
    "zbinSize = 1000 #A"
   ]
  },
  {
   "cell_type": "markdown",
   "metadata": {},
   "source": [
    "## a) no diffraction"
   ]
  },
  {
   "cell_type": "code",
   "execution_count": 11,
   "metadata": {},
   "outputs": [],
   "source": [
    "file_nodiff_700 = '/home/elena/Documents/Work/MC-discrete/data/TRSM_diff:False_thick:7000.0_mat:Si_mode:DS_elastic:Ruth_vanilla_tilt:0.0_Emin:17000.0_E0:20000.0_tolE:0.0001_tolW:1e-07.h5'\n",
    "MCoutnew_nodiff = 'MCout_EP_700_nodiff.h5'"
   ]
  },
  {
   "cell_type": "code",
   "execution_count": 43,
   "metadata": {},
   "outputs": [
    {
     "name": "stdout",
     "output_type": "stream",
     "text": [
      "fraction of transmitted electrons 0.8110346203731418\n",
      "total num el 8129\n",
      "[[0. 0. 0.]\n",
      " [0. 0. 0.]\n",
      " [0. 0. 0.]] \n",
      "\n",
      "[8.128e+03 1.000e+00 0.000e+00 0.000e+00 0.000e+00 0.000e+00 0.000e+00]\n",
      "['0 - 999', '1000 - 1999', '2000 - 2999', '3000 - 3999', '4000 - 4999', '5000 - 5999', '6000 - 6999'] \n",
      "\n",
      "copied /home/elena/EMsoft/EMsoftPublic/EMsoftData/contrastInversion/MCfoilout_700.h5 to MCfoilout_700.h5 \n",
      "\n",
      "renamed MCfoilout_700.h5 to MCout_EP_700_nodiff.h5 \n",
      "\n",
      "max depth: 700.0 nm /n\n",
      "depth step: 100.0 nm /n\n"
     ]
    }
   ],
   "source": [
    "overwrite(mydata=file_nodiff_700, \n",
    "          Emin  =Emin, \n",
    "          Emax  =Emax, \n",
    "          EbinSize=EbinSize, \n",
    "          zmax  =z_max, \n",
    "          zbinSize=zbinSize, \n",
    "          detSize=detSize, \n",
    "          MCpath =pathToMCout,\n",
    "          MCoutOG=MCoutOG, \n",
    "          MCoutNewName=MCoutnew_nodiff)"
   ]
  },
  {
   "cell_type": "markdown",
   "metadata": {},
   "source": [
    "## b) with diffraction"
   ]
  },
  {
   "cell_type": "code",
   "execution_count": 30,
   "metadata": {},
   "outputs": [],
   "source": [
    "file_wdiff_700 = '/home/elena/Documents/Work/MC-discrete/data/TRSM_diff:True_thick:7000.0_mat:Si_mode:DS_elastic:Ruth_vanilla_tilt:0.0_Emin:17000.0_E0:20000.0_tolE:0.0001_tolW:1e-07.h5'\n",
    "MCoutnew = 'MCout_EP_700_wdiff.h5'"
   ]
  },
  {
   "cell_type": "code",
   "execution_count": 45,
   "metadata": {},
   "outputs": [
    {
     "name": "stdout",
     "output_type": "stream",
     "text": [
      "fraction of transmitted electrons 0.5063885006987423\n",
      "total num el 5073\n",
      "[[ 3.  2.  0.]\n",
      " [ 1. 59. 10.]\n",
      " [ 0.  5.  5.]] \n",
      "\n",
      "[4759.  141.   85.   41.   27.    7.    9.]\n",
      "['0 - 999', '1000 - 1999', '2000 - 2999', '3000 - 3999', '4000 - 4999', '5000 - 5999', '6000 - 6999'] \n",
      "\n",
      "copied /home/elena/EMsoft/EMsoftPublic/EMsoftData/contrastInversion/MCfoilout_700.h5 to MCfoilout_700.h5 \n",
      "\n",
      "renamed MCfoilout_700.h5 to MCout_EP_700_wdiff.h5 \n",
      "\n",
      "max depth: 700.0 nm \n",
      "\n",
      "depth step: 100.0 nm \n",
      "\n"
     ]
    }
   ],
   "source": [
    "overwrite(mydata=file_wdiff_700, \n",
    "          Emin     = Emin, \n",
    "          Emax     = Emax, \n",
    "          EbinSize = EbinSize, \n",
    "          zmax     = z_max, \n",
    "          zbinSize = zbinSize, \n",
    "          detSize  = detSize, \n",
    "          MCpath   = pathToMCout,\n",
    "          MCoutOG  = MCoutOG, \n",
    "          MCoutNewName=MCoutnew)"
   ]
  },
  {
   "cell_type": "code",
   "execution_count": null,
   "metadata": {},
   "outputs": [],
   "source": []
  }
 ],
 "metadata": {
  "kernelspec": {
   "display_name": "Python 3",
   "language": "python",
   "name": "python3"
  },
  "language_info": {
   "codemirror_mode": {
    "name": "ipython",
    "version": 3
   },
   "file_extension": ".py",
   "mimetype": "text/x-python",
   "name": "python",
   "nbconvert_exporter": "python",
   "pygments_lexer": "ipython3",
   "version": "3.7.3"
  }
 },
 "nbformat": 4,
 "nbformat_minor": 2
}
